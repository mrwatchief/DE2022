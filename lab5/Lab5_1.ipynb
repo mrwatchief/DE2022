{
 "cells": [
  {
   "cell_type": "markdown",
   "id": "3ac9ab20-8a0e-45ca-b9ef-07acde5b1965",
   "metadata": {},
   "source": [
    "### Installation\n",
    "Install the packages required for executing this notebook."
   ]
  },
  {
   "cell_type": "code",
   "execution_count": 1,
   "id": "024614c9-4aa3-4ca5-9f9e-eef322903e8c",
   "metadata": {},
   "outputs": [
    {
     "name": "stdout",
     "output_type": "stream",
     "text": [
      "\u001b[33m  WARNING: The script tb-gcp-uploader is installed in '/home/jupyter/.local/bin' which is not on PATH.\n",
      "  Consider adding this directory to PATH or, if you prefer to suppress this warning, use --no-warn-script-location.\u001b[0m\u001b[33m\n",
      "\u001b[0m\u001b[33m  WARNING: The script tabulate is installed in '/home/jupyter/.local/bin' which is not on PATH.\n",
      "  Consider adding this directory to PATH or, if you prefer to suppress this warning, use --no-warn-script-location.\u001b[0m\u001b[33m\n",
      "\u001b[0m\u001b[33m  WARNING: The script strip-hints is installed in '/home/jupyter/.local/bin' which is not on PATH.\n",
      "  Consider adding this directory to PATH or, if you prefer to suppress this warning, use --no-warn-script-location.\u001b[0m\u001b[33m\n",
      "\u001b[0m\u001b[33m  WARNING: The script jsonschema is installed in '/home/jupyter/.local/bin' which is not on PATH.\n",
      "  Consider adding this directory to PATH or, if you prefer to suppress this warning, use --no-warn-script-location.\u001b[0m\u001b[33m\n",
      "\u001b[0m\u001b[33m  WARNING: The scripts dsl-compile, dsl-compile-v2 and kfp are installed in '/home/jupyter/.local/bin' which is not on PATH.\n",
      "  Consider adding this directory to PATH or, if you prefer to suppress this warning, use --no-warn-script-location.\u001b[0m\u001b[33m\n",
      "\u001b[0m\u001b[31mERROR: pip's dependency resolver does not currently take into account all the packages that are installed. This behaviour is the source of the following dependency conflicts.\n",
      "cloud-tpu-client 0.10 requires google-api-python-client==1.8.0, but you have google-api-python-client 1.12.11 which is incompatible.\u001b[0m\u001b[31m\n",
      "\u001b[0m"
     ]
    }
   ],
   "source": [
    "import os\n",
    "\n",
    "# The Vertex AI Workbench Notebook product has specific requirements\n",
    "IS_WORKBENCH_NOTEBOOK = os.getenv(\"DL_ANACONDA_HOME\") and not os.getenv(\"VIRTUAL_ENV\")\n",
    "IS_USER_MANAGED_WORKBENCH_NOTEBOOK = os.path.exists(\n",
    "    \"/opt/deeplearning/metadata/env_version\"\n",
    ")\n",
    "\n",
    "# Vertex AI Notebook requires dependencies to be installed with '--user'\n",
    "USER_FLAG = \"\"\n",
    "if IS_WORKBENCH_NOTEBOOK:\n",
    "    USER_FLAG = \"--user\"\n",
    "\n",
    "! pip3 install --upgrade google-cloud-aiplatform {USER_FLAG} -q\n",
    "! pip3 install -U google-cloud-storage {USER_FLAG} -q\n",
    "! pip3 install {USER_FLAG} kfp google-cloud-pipeline-components --upgrade -q"
   ]
  },
  {
   "cell_type": "markdown",
   "id": "bedfc88a-c38e-45cc-90a5-3352f7ec8b8c",
   "metadata": {},
   "source": [
    "## Restart the kernel\n",
    "Once you've installed the additional packages, you need to restart the notebook kernel so it can find the packages."
   ]
  },
  {
   "cell_type": "code",
   "execution_count": 2,
   "id": "e75e2252-5e21-42fe-a558-c788d5dc6a60",
   "metadata": {},
   "outputs": [],
   "source": [
    "import os\n",
    "\n",
    "if not os.getenv(\"IS_TESTING\"):\n",
    "    # Automatically restart kernel after installs\n",
    "    import IPython\n",
    "\n",
    "    app = IPython.Application.instance()\n",
    "    app.kernel.do_shutdown(True)"
   ]
  },
  {
   "cell_type": "code",
   "execution_count": null,
   "id": "9968b302-b09f-484e-9135-0aa649693c09",
   "metadata": {},
   "outputs": [],
   "source": [
    "Check the versions of the packages you installed. The KFP SDK version should be >=1.6."
   ]
  },
  {
   "cell_type": "code",
   "execution_count": 1,
   "id": "7c27a22d-9371-4122-bba1-19cb83274755",
   "metadata": {},
   "outputs": [
    {
     "name": "stdout",
     "output_type": "stream",
     "text": [
      "KFP SDK version: 1.8.14\n"
     ]
    }
   ],
   "source": [
    "! python3 -c \"import kfp; print('KFP SDK version: {}'.format(kfp.__version__))\""
   ]
  },
  {
   "cell_type": "code",
   "execution_count": 2,
   "id": "40c99b37-0d47-45ae-8aa4-523812273286",
   "metadata": {},
   "outputs": [],
   "source": [
    "import kfp\n",
    "from kfp.v2 import dsl\n",
    "from kfp.v2.dsl import component\n",
    "from kfp.v2.dsl import (\n",
    "    Input,\n",
    "    Output,\n",
    "    Artifact,\n",
    "    Dataset,\n",
    ")"
   ]
  },
  {
   "cell_type": "markdown",
   "id": "8d1d47f1-21f4-4414-907e-ad9e3898397f",
   "metadata": {},
   "source": [
    "#### Pipeline Configurations"
   ]
  },
  {
   "cell_type": "code",
   "execution_count": 17,
   "id": "94faa2d8-89da-4bdd-a4a5-5cd82bd53ef9",
   "metadata": {},
   "outputs": [],
   "source": [
    "#The Google Cloud project that this pipeline runs in.\n",
    "project_id = \"use your project id here\"\n",
    "# The region that this pipeline runs in\n",
    "region = \"us-west1\"\n",
    "# Specify a Cloud Storage URI that your pipelines service account can access. The artifacts of your pipeline runs are stored within the pipeline root.\n",
    "pipeline_root_path = \"your bucket e.g., gs://de_jads_temp\""
   ]
  },
  {
   "cell_type": "markdown",
   "id": "e0a85608-35c3-4879-bc3e-50efc8fc8427",
   "metadata": {},
   "source": [
    "#### Create the Components from Component Specifications "
   ]
  },
  {
   "cell_type": "code",
   "execution_count": 4,
   "id": "f079b57a-e305-420c-a47e-cbbedfe9b265",
   "metadata": {},
   "outputs": [],
   "source": [
    "from kfp.components import load_component_from_file\n",
    "\n",
    "data_ingestion_op = load_component_from_file(\n",
    "    './components/data_ingestor/component.yaml')\n",
    "\n",
    "mlp_model_op = load_component_from_file(\n",
    "    './components/mlp_trainer/component.yaml')"
   ]
  },
  {
   "cell_type": "markdown",
   "id": "bfd09522-58a0-4414-95ef-54cc6a817c33",
   "metadata": {},
   "source": [
    "#### Define the Pipeline"
   ]
  },
  {
   "cell_type": "code",
   "execution_count": 12,
   "id": "226c8165-3459-4e43-b277-c35ba4a39316",
   "metadata": {},
   "outputs": [],
   "source": [
    "# Define the workflow of the pipeline.\n",
    "@kfp.dsl.pipeline(\n",
    "    name=\"diabetes-predictor-mlp\",\n",
    "    pipeline_root=pipeline_root_path)\n",
    "def pipeline(project_id: str, data_bucket: str, trainset_filename: str, model_repo: str):\n",
    "    \n",
    "    # The first step    \n",
    "    di_op = data_ingestion_op(\n",
    "        project_id=project_id,\n",
    "        bucket=data_bucket,\n",
    "        file_name=trainset_filename\n",
    "    )\n",
    "\n",
    "    # The second step \n",
    "    training_job_run_op = mlp_model_op(\n",
    "        project_id=project_id,\n",
    "        model_repo=model_repo,       \n",
    "        feature_path=di_op.outputs['feature_path']\n",
    "    )"
   ]
  },
  {
   "cell_type": "markdown",
   "id": "f3fba21b-eef1-4454-9809-625f22713117",
   "metadata": {},
   "source": [
    "#### Compile the Pipeline"
   ]
  },
  {
   "cell_type": "code",
   "execution_count": 15,
   "id": "2ca3e726-654c-4a47-9088-08669d579844",
   "metadata": {},
   "outputs": [],
   "source": [
    "from kfp.v2 import compiler\n",
    "compiler.Compiler().compile(pipeline_func=pipeline,\n",
    "        package_path='diabetes_predictor_mlp_pipeline.json')"
   ]
  },
  {
   "cell_type": "markdown",
   "id": "e699a5a5-2f9d-4519-8792-fdfcaeb4de26",
   "metadata": {},
   "source": [
    "#### Run the Pipeline"
   ]
  },
  {
   "cell_type": "code",
   "execution_count": 16,
   "id": "de309748-04ad-4b18-9590-6b9d46fbcace",
   "metadata": {},
   "outputs": [
    {
     "name": "stdout",
     "output_type": "stream",
     "text": [
      "Creating PipelineJob\n",
      "PipelineJob created. Resource name: projects/958343845263/locations/us-central1/pipelineJobs/diabetes-predictor-mlp-20221011125216\n",
      "To use this PipelineJob in another session:\n",
      "pipeline_job = aiplatform.PipelineJob.get('projects/958343845263/locations/us-central1/pipelineJobs/diabetes-predictor-mlp-20221011125216')\n",
      "View Pipeline Job:\n",
      "https://console.cloud.google.com/vertex-ai/locations/us-central1/pipelines/runs/diabetes-predictor-mlp-20221011125216?project=958343845263\n",
      "PipelineJob projects/958343845263/locations/us-central1/pipelineJobs/diabetes-predictor-mlp-20221011125216 current state:\n",
      "PipelineState.PIPELINE_STATE_RUNNING\n",
      "PipelineJob projects/958343845263/locations/us-central1/pipelineJobs/diabetes-predictor-mlp-20221011125216 current state:\n",
      "PipelineState.PIPELINE_STATE_RUNNING\n",
      "PipelineJob projects/958343845263/locations/us-central1/pipelineJobs/diabetes-predictor-mlp-20221011125216 current state:\n",
      "PipelineState.PIPELINE_STATE_RUNNING\n",
      "PipelineJob projects/958343845263/locations/us-central1/pipelineJobs/diabetes-predictor-mlp-20221011125216 current state:\n",
      "PipelineState.PIPELINE_STATE_RUNNING\n",
      "PipelineJob projects/958343845263/locations/us-central1/pipelineJobs/diabetes-predictor-mlp-20221011125216 current state:\n",
      "PipelineState.PIPELINE_STATE_RUNNING\n",
      "PipelineJob run completed. Resource name: projects/958343845263/locations/us-central1/pipelineJobs/diabetes-predictor-mlp-20221011125216\n"
     ]
    }
   ],
   "source": [
    "import google.cloud.aiplatform as aip\n",
    "\n",
    "job = aip.PipelineJob(\n",
    "    display_name=\"diabetes-predictor-mlp-pipeline\",\n",
    "    template_path=\"diabetes_predictor_mlp_pipeline.json\",\n",
    "    enable_caching=False,\n",
    "    pipeline_root=pipeline_root_path,\n",
    "    parameter_values={\n",
    "        'project_id': project_id,\n",
    "        'data_bucket': 'data_de2022',\n",
    "        'trainset_filename': 'training_set.csv',\n",
    "        'model_repo':'model_repo_de2022'\n",
    "    }\n",
    ")\n",
    "\n",
    "job.run()"
   ]
  }
 ],
 "metadata": {
  "environment": {
   "kernel": "python3",
   "name": "common-cpu.m84",
   "type": "gcloud",
   "uri": "gcr.io/deeplearning-platform-release/base-cpu:m84"
  },
  "kernelspec": {
   "display_name": "Python (Local)",
   "language": "python",
   "name": "local-base"
  },
  "language_info": {
   "codemirror_mode": {
    "name": "ipython",
    "version": 3
   },
   "file_extension": ".py",
   "mimetype": "text/x-python",
   "name": "python",
   "nbconvert_exporter": "python",
   "pygments_lexer": "ipython3",
   "version": "3.7.12"
  }
 },
 "nbformat": 4,
 "nbformat_minor": 5
}
